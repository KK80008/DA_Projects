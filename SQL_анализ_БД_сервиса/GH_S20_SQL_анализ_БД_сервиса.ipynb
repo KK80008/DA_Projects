{
 "cells": [
  {
   "cell_type": "markdown",
   "id": "a9ece0ed",
   "metadata": {},
   "source": [
    "# Настройки"
   ]
  },
  {
   "cell_type": "markdown",
   "id": "eb078ad5",
   "metadata": {},
   "source": [
    "## Импортируем библиотеки"
   ]
  },
  {
   "cell_type": "code",
   "execution_count": 1,
   "id": "d8836734",
   "metadata": {},
   "outputs": [],
   "source": [
    "# импортируем библиотеки\n",
    "import pandas as pd\n",
    "from sqlalchemy import text, create_engine"
   ]
  },
  {
   "cell_type": "markdown",
   "id": "55e60e76",
   "metadata": {},
   "source": [
    "## Устанавливаем связь с базой данных"
   ]
  },
  {
   "cell_type": "code",
   "execution_count": 2,
   "id": "2a747dc0",
   "metadata": {
    "scrolled": true
   },
   "outputs": [
    {
     "data": {
      "text/html": [
       "<div>\n",
       "<style scoped>\n",
       "    .dataframe tbody tr th:only-of-type {\n",
       "        vertical-align: middle;\n",
       "    }\n",
       "\n",
       "    .dataframe tbody tr th {\n",
       "        vertical-align: top;\n",
       "    }\n",
       "\n",
       "    .dataframe thead th {\n",
       "        text-align: right;\n",
       "    }\n",
       "</style>\n",
       "<table border=\"1\" class=\"dataframe\">\n",
       "  <thead>\n",
       "    <tr style=\"text-align: right;\">\n",
       "      <th></th>\n",
       "      <th>book_id</th>\n",
       "      <th>author_id</th>\n",
       "      <th>title</th>\n",
       "      <th>num_pages</th>\n",
       "      <th>publication_date</th>\n",
       "      <th>publisher_id</th>\n",
       "    </tr>\n",
       "  </thead>\n",
       "  <tbody>\n",
       "    <tr>\n",
       "      <th>0</th>\n",
       "      <td>1</td>\n",
       "      <td>546</td>\n",
       "      <td>'Salem's Lot</td>\n",
       "      <td>594</td>\n",
       "      <td>2005-11-01</td>\n",
       "      <td>93</td>\n",
       "    </tr>\n",
       "  </tbody>\n",
       "</table>\n",
       "</div>"
      ],
      "text/plain": [
       "   book_id  author_id         title  num_pages publication_date  publisher_id\n",
       "0        1        546  'Salem's Lot        594       2005-11-01            93"
      ]
     },
     "execution_count": 2,
     "metadata": {},
     "output_type": "execute_result"
    }
   ],
   "source": [
    "# устанавливаем параметры соединения\n",
    "db_config = {'user': 'praktikum_student', # имя пользователя\n",
    "'pwd': 'Sdf4$2;d-d30pp', # пароль\n",
    "'host': 'rc1b-wcoijxj3yxfsf3fs.mdb.yandexcloud.net',\n",
    "'port': 6432, # порт подключения\n",
    "'db': 'data-analyst-final-project-db'} # название базы данных\n",
    "connection_string = 'postgresql://{user}:{pwd}@{host}:{port}/{db}'.format(**db_config)\n",
    "\n",
    "# сохраняем коннектор\n",
    "engine = create_engine(connection_string, connect_args={'sslmode':'require'})\n",
    "\n",
    "# чтобы выполнить SQL-запрос, используем Pandas\n",
    "query = '''SELECT * FROM books LIMIT 5'''\n",
    "\n",
    "con=engine.connect()\n",
    "\n",
    "pd.io.sql.read_sql(sql=text(query), con = con).head(1)"
   ]
  },
  {
   "cell_type": "markdown",
   "id": "1d977ad8",
   "metadata": {},
   "source": [
    "# Изучаем структуру таблиц базы данных"
   ]
  },
  {
   "cell_type": "markdown",
   "id": "35159b4d",
   "metadata": {},
   "source": [
    "## `books`"
   ]
  },
  {
   "cell_type": "code",
   "execution_count": 3,
   "id": "0a2d2275",
   "metadata": {},
   "outputs": [
    {
     "data": {
      "text/html": [
       "<div>\n",
       "<style scoped>\n",
       "    .dataframe tbody tr th:only-of-type {\n",
       "        vertical-align: middle;\n",
       "    }\n",
       "\n",
       "    .dataframe tbody tr th {\n",
       "        vertical-align: top;\n",
       "    }\n",
       "\n",
       "    .dataframe thead th {\n",
       "        text-align: right;\n",
       "    }\n",
       "</style>\n",
       "<table border=\"1\" class=\"dataframe\">\n",
       "  <thead>\n",
       "    <tr style=\"text-align: right;\">\n",
       "      <th></th>\n",
       "      <th>book_id</th>\n",
       "      <th>author_id</th>\n",
       "      <th>title</th>\n",
       "      <th>num_pages</th>\n",
       "      <th>publication_date</th>\n",
       "      <th>publisher_id</th>\n",
       "    </tr>\n",
       "  </thead>\n",
       "  <tbody>\n",
       "    <tr>\n",
       "      <th>0</th>\n",
       "      <td>1</td>\n",
       "      <td>546</td>\n",
       "      <td>'Salem's Lot</td>\n",
       "      <td>594</td>\n",
       "      <td>2005-11-01</td>\n",
       "      <td>93</td>\n",
       "    </tr>\n",
       "  </tbody>\n",
       "</table>\n",
       "</div>"
      ],
      "text/plain": [
       "   book_id  author_id         title  num_pages publication_date  publisher_id\n",
       "0        1        546  'Salem's Lot        594       2005-11-01            93"
      ]
     },
     "execution_count": 3,
     "metadata": {},
     "output_type": "execute_result"
    }
   ],
   "source": [
    "query = '''SELECT * FROM books LIMIT 1'''\n",
    "pd.io.sql.read_sql(sql=text(query), con = con)"
   ]
  },
  {
   "cell_type": "markdown",
   "id": "46a6945f",
   "metadata": {},
   "source": [
    "## `authors`"
   ]
  },
  {
   "cell_type": "code",
   "execution_count": 4,
   "id": "63d71203",
   "metadata": {},
   "outputs": [
    {
     "data": {
      "text/html": [
       "<div>\n",
       "<style scoped>\n",
       "    .dataframe tbody tr th:only-of-type {\n",
       "        vertical-align: middle;\n",
       "    }\n",
       "\n",
       "    .dataframe tbody tr th {\n",
       "        vertical-align: top;\n",
       "    }\n",
       "\n",
       "    .dataframe thead th {\n",
       "        text-align: right;\n",
       "    }\n",
       "</style>\n",
       "<table border=\"1\" class=\"dataframe\">\n",
       "  <thead>\n",
       "    <tr style=\"text-align: right;\">\n",
       "      <th></th>\n",
       "      <th>author_id</th>\n",
       "      <th>author</th>\n",
       "    </tr>\n",
       "  </thead>\n",
       "  <tbody>\n",
       "    <tr>\n",
       "      <th>0</th>\n",
       "      <td>1</td>\n",
       "      <td>A.S. Byatt</td>\n",
       "    </tr>\n",
       "  </tbody>\n",
       "</table>\n",
       "</div>"
      ],
      "text/plain": [
       "   author_id      author\n",
       "0          1  A.S. Byatt"
      ]
     },
     "execution_count": 4,
     "metadata": {},
     "output_type": "execute_result"
    }
   ],
   "source": [
    "query = '''SELECT * FROM authors LIMIT 1'''\n",
    "pd.io.sql.read_sql(sql=text(query), con = con)"
   ]
  },
  {
   "cell_type": "markdown",
   "id": "fbbdb3d2",
   "metadata": {},
   "source": [
    "## `publishers`"
   ]
  },
  {
   "cell_type": "code",
   "execution_count": 5,
   "id": "2618af7b",
   "metadata": {},
   "outputs": [
    {
     "data": {
      "text/html": [
       "<div>\n",
       "<style scoped>\n",
       "    .dataframe tbody tr th:only-of-type {\n",
       "        vertical-align: middle;\n",
       "    }\n",
       "\n",
       "    .dataframe tbody tr th {\n",
       "        vertical-align: top;\n",
       "    }\n",
       "\n",
       "    .dataframe thead th {\n",
       "        text-align: right;\n",
       "    }\n",
       "</style>\n",
       "<table border=\"1\" class=\"dataframe\">\n",
       "  <thead>\n",
       "    <tr style=\"text-align: right;\">\n",
       "      <th></th>\n",
       "      <th>publisher_id</th>\n",
       "      <th>publisher</th>\n",
       "    </tr>\n",
       "  </thead>\n",
       "  <tbody>\n",
       "    <tr>\n",
       "      <th>0</th>\n",
       "      <td>1</td>\n",
       "      <td>Ace</td>\n",
       "    </tr>\n",
       "  </tbody>\n",
       "</table>\n",
       "</div>"
      ],
      "text/plain": [
       "   publisher_id publisher\n",
       "0             1       Ace"
      ]
     },
     "execution_count": 5,
     "metadata": {},
     "output_type": "execute_result"
    }
   ],
   "source": [
    "query = '''SELECT * FROM publishers LIMIT 1'''\n",
    "pd.io.sql.read_sql(sql=text(query), con = con).head(1)"
   ]
  },
  {
   "cell_type": "markdown",
   "id": "38702535",
   "metadata": {},
   "source": [
    "## `ratings`"
   ]
  },
  {
   "cell_type": "code",
   "execution_count": 6,
   "id": "4c095b17",
   "metadata": {},
   "outputs": [
    {
     "data": {
      "text/html": [
       "<div>\n",
       "<style scoped>\n",
       "    .dataframe tbody tr th:only-of-type {\n",
       "        vertical-align: middle;\n",
       "    }\n",
       "\n",
       "    .dataframe tbody tr th {\n",
       "        vertical-align: top;\n",
       "    }\n",
       "\n",
       "    .dataframe thead th {\n",
       "        text-align: right;\n",
       "    }\n",
       "</style>\n",
       "<table border=\"1\" class=\"dataframe\">\n",
       "  <thead>\n",
       "    <tr style=\"text-align: right;\">\n",
       "      <th></th>\n",
       "      <th>rating_id</th>\n",
       "      <th>book_id</th>\n",
       "      <th>username</th>\n",
       "      <th>rating</th>\n",
       "    </tr>\n",
       "  </thead>\n",
       "  <tbody>\n",
       "    <tr>\n",
       "      <th>0</th>\n",
       "      <td>1</td>\n",
       "      <td>1</td>\n",
       "      <td>ryanfranco</td>\n",
       "      <td>4</td>\n",
       "    </tr>\n",
       "  </tbody>\n",
       "</table>\n",
       "</div>"
      ],
      "text/plain": [
       "   rating_id  book_id    username  rating\n",
       "0          1        1  ryanfranco       4"
      ]
     },
     "execution_count": 6,
     "metadata": {},
     "output_type": "execute_result"
    }
   ],
   "source": [
    "query = '''SELECT * FROM ratings LIMIT 1'''\n",
    "pd.io.sql.read_sql(sql=text(query), con = con)"
   ]
  },
  {
   "cell_type": "markdown",
   "id": "1e1a75a7",
   "metadata": {},
   "source": [
    "## `reviews`"
   ]
  },
  {
   "cell_type": "code",
   "execution_count": 7,
   "id": "a04354bb",
   "metadata": {
    "scrolled": true
   },
   "outputs": [
    {
     "data": {
      "text/html": [
       "<div>\n",
       "<style scoped>\n",
       "    .dataframe tbody tr th:only-of-type {\n",
       "        vertical-align: middle;\n",
       "    }\n",
       "\n",
       "    .dataframe tbody tr th {\n",
       "        vertical-align: top;\n",
       "    }\n",
       "\n",
       "    .dataframe thead th {\n",
       "        text-align: right;\n",
       "    }\n",
       "</style>\n",
       "<table border=\"1\" class=\"dataframe\">\n",
       "  <thead>\n",
       "    <tr style=\"text-align: right;\">\n",
       "      <th></th>\n",
       "      <th>review_id</th>\n",
       "      <th>book_id</th>\n",
       "      <th>username</th>\n",
       "      <th>text</th>\n",
       "    </tr>\n",
       "  </thead>\n",
       "  <tbody>\n",
       "    <tr>\n",
       "      <th>0</th>\n",
       "      <td>1</td>\n",
       "      <td>1</td>\n",
       "      <td>brandtandrea</td>\n",
       "      <td>Mention society tell send professor analysis. ...</td>\n",
       "    </tr>\n",
       "  </tbody>\n",
       "</table>\n",
       "</div>"
      ],
      "text/plain": [
       "   review_id  book_id      username  \\\n",
       "0          1        1  brandtandrea   \n",
       "\n",
       "                                                text  \n",
       "0  Mention society tell send professor analysis. ...  "
      ]
     },
     "execution_count": 7,
     "metadata": {},
     "output_type": "execute_result"
    }
   ],
   "source": [
    "query = '''SELECT * FROM reviews LIMIT 1'''\n",
    "pd.io.sql.read_sql(sql=text(query), con = con)"
   ]
  },
  {
   "cell_type": "markdown",
   "id": "cb9dfcb6",
   "metadata": {},
   "source": [
    "# Задания"
   ]
  },
  {
   "cell_type": "markdown",
   "id": "96dacfa0",
   "metadata": {},
   "source": [
    "## Считаем сколько книг вышло после 1 января 2000 года."
   ]
  },
  {
   "cell_type": "code",
   "execution_count": 8,
   "id": "fe0f8941",
   "metadata": {},
   "outputs": [
    {
     "data": {
      "text/html": [
       "<div>\n",
       "<style scoped>\n",
       "    .dataframe tbody tr th:only-of-type {\n",
       "        vertical-align: middle;\n",
       "    }\n",
       "\n",
       "    .dataframe tbody tr th {\n",
       "        vertical-align: top;\n",
       "    }\n",
       "\n",
       "    .dataframe thead th {\n",
       "        text-align: right;\n",
       "    }\n",
       "</style>\n",
       "<table border=\"1\" class=\"dataframe\">\n",
       "  <thead>\n",
       "    <tr style=\"text-align: right;\">\n",
       "      <th></th>\n",
       "      <th>count</th>\n",
       "    </tr>\n",
       "  </thead>\n",
       "  <tbody>\n",
       "    <tr>\n",
       "      <th>0</th>\n",
       "      <td>819</td>\n",
       "    </tr>\n",
       "  </tbody>\n",
       "</table>\n",
       "</div>"
      ],
      "text/plain": [
       "   count\n",
       "0    819"
      ]
     },
     "execution_count": 8,
     "metadata": {},
     "output_type": "execute_result"
    }
   ],
   "source": [
    "query = '''SELECT COUNT(*) \n",
    "FROM books\n",
    "WHERE publication_date > '2000-01-01'\n",
    "\n",
    "'''\n",
    "pd.io.sql.read_sql(sql=text(query), con = con)"
   ]
  },
  {
   "cell_type": "markdown",
   "id": "59ba7b07",
   "metadata": {},
   "source": [
    "### Вывод\n",
    "- После 1 января 2000 года вышло \n",
    "\n",
    "**819 книг.**"
   ]
  },
  {
   "cell_type": "markdown",
   "id": "05e4f23c",
   "metadata": {},
   "source": [
    "## Считаем количество обзоров и среднюю оценку для каждой книги ."
   ]
  },
  {
   "cell_type": "code",
   "execution_count": 15,
   "id": "49c883b6",
   "metadata": {},
   "outputs": [
    {
     "data": {
      "text/html": [
       "<div>\n",
       "<style scoped>\n",
       "    .dataframe tbody tr th:only-of-type {\n",
       "        vertical-align: middle;\n",
       "    }\n",
       "\n",
       "    .dataframe tbody tr th {\n",
       "        vertical-align: top;\n",
       "    }\n",
       "\n",
       "    .dataframe thead th {\n",
       "        text-align: right;\n",
       "    }\n",
       "</style>\n",
       "<table border=\"1\" class=\"dataframe\">\n",
       "  <thead>\n",
       "    <tr style=\"text-align: right;\">\n",
       "      <th></th>\n",
       "      <th>book_id</th>\n",
       "      <th>reviews_num</th>\n",
       "    </tr>\n",
       "  </thead>\n",
       "  <tbody>\n",
       "    <tr>\n",
       "      <th>0</th>\n",
       "      <td>948</td>\n",
       "      <td>7</td>\n",
       "    </tr>\n",
       "    <tr>\n",
       "      <th>1</th>\n",
       "      <td>750</td>\n",
       "      <td>6</td>\n",
       "    </tr>\n",
       "    <tr>\n",
       "      <th>2</th>\n",
       "      <td>695</td>\n",
       "      <td>6</td>\n",
       "    </tr>\n",
       "    <tr>\n",
       "      <th>3</th>\n",
       "      <td>963</td>\n",
       "      <td>6</td>\n",
       "    </tr>\n",
       "    <tr>\n",
       "      <th>4</th>\n",
       "      <td>696</td>\n",
       "      <td>6</td>\n",
       "    </tr>\n",
       "  </tbody>\n",
       "</table>\n",
       "</div>"
      ],
      "text/plain": [
       "   book_id  reviews_num\n",
       "0      948            7\n",
       "1      750            6\n",
       "2      695            6\n",
       "3      963            6\n",
       "4      696            6"
      ]
     },
     "execution_count": 15,
     "metadata": {},
     "output_type": "execute_result"
    }
   ],
   "source": [
    "query = '''\n",
    "SELECT\n",
    "book_id,\n",
    "COUNT (book_id) AS reviews_num\n",
    "FROM reviews\n",
    "GROUP BY book_id\n",
    "ORDER BY reviews_num DESC\n",
    "LIMIT 5\n",
    "\n",
    "'''\n",
    "pd.io.sql.read_sql(sql=text(query), con = con)"
   ]
  },
  {
   "cell_type": "code",
   "execution_count": 10,
   "id": "3fc4a3fa",
   "metadata": {},
   "outputs": [
    {
     "data": {
      "text/html": [
       "<div>\n",
       "<style scoped>\n",
       "    .dataframe tbody tr th:only-of-type {\n",
       "        vertical-align: middle;\n",
       "    }\n",
       "\n",
       "    .dataframe tbody tr th {\n",
       "        vertical-align: top;\n",
       "    }\n",
       "\n",
       "    .dataframe thead th {\n",
       "        text-align: right;\n",
       "    }\n",
       "</style>\n",
       "<table border=\"1\" class=\"dataframe\">\n",
       "  <thead>\n",
       "    <tr style=\"text-align: right;\">\n",
       "      <th></th>\n",
       "      <th>book_id</th>\n",
       "      <th>title</th>\n",
       "      <th>avg_rating</th>\n",
       "      <th>num_of_reviews</th>\n",
       "    </tr>\n",
       "  </thead>\n",
       "  <tbody>\n",
       "    <tr>\n",
       "      <th>0</th>\n",
       "      <td>938</td>\n",
       "      <td>Triptych (Will Trent  #1)</td>\n",
       "      <td>5.00</td>\n",
       "      <td>2</td>\n",
       "    </tr>\n",
       "    <tr>\n",
       "      <th>1</th>\n",
       "      <td>672</td>\n",
       "      <td>The Cat in the Hat and Other Dr. Seuss Favorites</td>\n",
       "      <td>5.00</td>\n",
       "      <td>0</td>\n",
       "    </tr>\n",
       "    <tr>\n",
       "      <th>2</th>\n",
       "      <td>390</td>\n",
       "      <td>Light in August</td>\n",
       "      <td>5.00</td>\n",
       "      <td>2</td>\n",
       "    </tr>\n",
       "    <tr>\n",
       "      <th>3</th>\n",
       "      <td>441</td>\n",
       "      <td>Misty of Chincoteague (Misty  #1)</td>\n",
       "      <td>5.00</td>\n",
       "      <td>2</td>\n",
       "    </tr>\n",
       "    <tr>\n",
       "      <th>4</th>\n",
       "      <td>901</td>\n",
       "      <td>The Walking Dead  Book One (The Walking Dead #...</td>\n",
       "      <td>5.00</td>\n",
       "      <td>2</td>\n",
       "    </tr>\n",
       "    <tr>\n",
       "      <th>...</th>\n",
       "      <td>...</td>\n",
       "      <td>...</td>\n",
       "      <td>...</td>\n",
       "      <td>...</td>\n",
       "    </tr>\n",
       "    <tr>\n",
       "      <th>995</th>\n",
       "      <td>915</td>\n",
       "      <td>The World Is Flat: A Brief History of the Twen...</td>\n",
       "      <td>2.25</td>\n",
       "      <td>3</td>\n",
       "    </tr>\n",
       "    <tr>\n",
       "      <th>996</th>\n",
       "      <td>371</td>\n",
       "      <td>Junky</td>\n",
       "      <td>2.00</td>\n",
       "      <td>2</td>\n",
       "    </tr>\n",
       "    <tr>\n",
       "      <th>997</th>\n",
       "      <td>202</td>\n",
       "      <td>Drowning Ruth</td>\n",
       "      <td>2.00</td>\n",
       "      <td>3</td>\n",
       "    </tr>\n",
       "    <tr>\n",
       "      <th>998</th>\n",
       "      <td>316</td>\n",
       "      <td>His Excellency: George Washington</td>\n",
       "      <td>2.00</td>\n",
       "      <td>2</td>\n",
       "    </tr>\n",
       "    <tr>\n",
       "      <th>999</th>\n",
       "      <td>303</td>\n",
       "      <td>Harvesting the Heart</td>\n",
       "      <td>1.50</td>\n",
       "      <td>2</td>\n",
       "    </tr>\n",
       "  </tbody>\n",
       "</table>\n",
       "<p>1000 rows × 4 columns</p>\n",
       "</div>"
      ],
      "text/plain": [
       "     book_id                                              title  avg_rating  \\\n",
       "0        938                          Triptych (Will Trent  #1)        5.00   \n",
       "1        672   The Cat in the Hat and Other Dr. Seuss Favorites        5.00   \n",
       "2        390                                    Light in August        5.00   \n",
       "3        441                  Misty of Chincoteague (Misty  #1)        5.00   \n",
       "4        901  The Walking Dead  Book One (The Walking Dead #...        5.00   \n",
       "..       ...                                                ...         ...   \n",
       "995      915  The World Is Flat: A Brief History of the Twen...        2.25   \n",
       "996      371                                              Junky        2.00   \n",
       "997      202                                      Drowning Ruth        2.00   \n",
       "998      316                  His Excellency: George Washington        2.00   \n",
       "999      303                               Harvesting the Heart        1.50   \n",
       "\n",
       "     num_of_reviews  \n",
       "0                 2  \n",
       "1                 0  \n",
       "2                 2  \n",
       "3                 2  \n",
       "4                 2  \n",
       "..              ...  \n",
       "995               3  \n",
       "996               2  \n",
       "997               3  \n",
       "998               2  \n",
       "999               2  \n",
       "\n",
       "[1000 rows x 4 columns]"
      ]
     },
     "execution_count": 10,
     "metadata": {},
     "output_type": "execute_result"
    }
   ],
   "source": [
    "query = '''\n",
    "WITH books_rt AS (   \n",
    "        SELECT b.book_id,\n",
    "        b.title,\n",
    "        AVG(rt.rating) as avg_rating\n",
    "        FROM books as b\n",
    "        LEFT JOIN ratings as rt ON b.book_id=rt.book_id\n",
    "        GROUP BY 1, 2)\n",
    "\n",
    "\n",
    "SELECT \n",
    "br.book_id,\n",
    "br.title,\n",
    "br.avg_rating,\n",
    "COUNT(rv.review_id) AS num_of_reviews\n",
    "FROM books_rt AS br\n",
    "LEFT JOIN reviews as rv ON br.book_id=rv.book_id\n",
    "GROUP BY 1, 2, 3\n",
    "ORDER BY avg_rating DESC\n",
    "\n",
    "'''\n",
    "pd.io.sql.read_sql(sql=text(query), con = con)"
   ]
  },
  {
   "cell_type": "markdown",
   "id": "79957e11",
   "metadata": {},
   "source": [
    "### Вывод \n",
    "- Получена информация по 1000 книг\n",
    "- Минимальный рейтинг 1,5, максимальный 5\n",
    "- У 6 книг ни одного обзора\n",
    "- Лидер имеет 7 обзоров "
   ]
  },
  {
   "cell_type": "markdown",
   "id": "a198449c",
   "metadata": {},
   "source": [
    "## Определяем издательство, которое выпустило наибольшее число \"толстых\" книг (количество страниц больше 50)"
   ]
  },
  {
   "cell_type": "code",
   "execution_count": 11,
   "id": "e4721dff",
   "metadata": {},
   "outputs": [
    {
     "data": {
      "text/html": [
       "<div>\n",
       "<style scoped>\n",
       "    .dataframe tbody tr th:only-of-type {\n",
       "        vertical-align: middle;\n",
       "    }\n",
       "\n",
       "    .dataframe tbody tr th {\n",
       "        vertical-align: top;\n",
       "    }\n",
       "\n",
       "    .dataframe thead th {\n",
       "        text-align: right;\n",
       "    }\n",
       "</style>\n",
       "<table border=\"1\" class=\"dataframe\">\n",
       "  <thead>\n",
       "    <tr style=\"text-align: right;\">\n",
       "      <th></th>\n",
       "      <th>publisher</th>\n",
       "      <th>books_num</th>\n",
       "    </tr>\n",
       "  </thead>\n",
       "  <tbody>\n",
       "    <tr>\n",
       "      <th>0</th>\n",
       "      <td>Penguin Books</td>\n",
       "      <td>42</td>\n",
       "    </tr>\n",
       "    <tr>\n",
       "      <th>1</th>\n",
       "      <td>Vintage</td>\n",
       "      <td>31</td>\n",
       "    </tr>\n",
       "    <tr>\n",
       "      <th>2</th>\n",
       "      <td>Grand Central Publishing</td>\n",
       "      <td>25</td>\n",
       "    </tr>\n",
       "    <tr>\n",
       "      <th>3</th>\n",
       "      <td>Penguin Classics</td>\n",
       "      <td>24</td>\n",
       "    </tr>\n",
       "    <tr>\n",
       "      <th>4</th>\n",
       "      <td>Bantam</td>\n",
       "      <td>19</td>\n",
       "    </tr>\n",
       "  </tbody>\n",
       "</table>\n",
       "</div>"
      ],
      "text/plain": [
       "                  publisher  books_num\n",
       "0             Penguin Books         42\n",
       "1                   Vintage         31\n",
       "2  Grand Central Publishing         25\n",
       "3          Penguin Classics         24\n",
       "4                    Bantam         19"
      ]
     },
     "execution_count": 11,
     "metadata": {},
     "output_type": "execute_result"
    }
   ],
   "source": [
    "query = '''SELECT publisher,\n",
    "COUNT(book_id) AS books_num\n",
    "FROM publishers AS p\n",
    "LEFT JOIN books AS b ON b.publisher_id=p.publisher_id\n",
    "WHERE num_pages >50\n",
    "GROUP BY 1\n",
    "ORDER BY books_num DESC\n",
    "LIMIT 5\n",
    "\n",
    "'''\n",
    "pd.io.sql.read_sql(sql=text(query), con = con)"
   ]
  },
  {
   "cell_type": "markdown",
   "id": "7e301ff0",
   "metadata": {},
   "source": [
    "### Вывод\n",
    "Больше всего книг (42 наименования) толще 50 страниц выпустило издательство \n",
    "\n",
    "**Penguin Books.**"
   ]
  },
  {
   "cell_type": "markdown",
   "id": "84d16b01",
   "metadata": {},
   "source": [
    "## Определяем автора с самой высокой средней оценкой книг (учитываем только книги с 50 и более оценками)"
   ]
  },
  {
   "cell_type": "code",
   "execution_count": 12,
   "id": "ea92b695",
   "metadata": {},
   "outputs": [
    {
     "data": {
      "text/html": [
       "<div>\n",
       "<style scoped>\n",
       "    .dataframe tbody tr th:only-of-type {\n",
       "        vertical-align: middle;\n",
       "    }\n",
       "\n",
       "    .dataframe tbody tr th {\n",
       "        vertical-align: top;\n",
       "    }\n",
       "\n",
       "    .dataframe thead th {\n",
       "        text-align: right;\n",
       "    }\n",
       "</style>\n",
       "<table border=\"1\" class=\"dataframe\">\n",
       "  <thead>\n",
       "    <tr style=\"text-align: right;\">\n",
       "      <th></th>\n",
       "      <th>author_id</th>\n",
       "      <th>author</th>\n",
       "      <th>avg_rt_num</th>\n",
       "      <th>average_rating</th>\n",
       "    </tr>\n",
       "  </thead>\n",
       "  <tbody>\n",
       "    <tr>\n",
       "      <th>0</th>\n",
       "      <td>236</td>\n",
       "      <td>J.K. Rowling/Mary GrandPré</td>\n",
       "      <td>77.5</td>\n",
       "      <td>4.283844</td>\n",
       "    </tr>\n",
       "    <tr>\n",
       "      <th>1</th>\n",
       "      <td>402</td>\n",
       "      <td>Markus Zusak/Cao Xuân Việt Khương</td>\n",
       "      <td>53.0</td>\n",
       "      <td>4.264151</td>\n",
       "    </tr>\n",
       "    <tr>\n",
       "      <th>2</th>\n",
       "      <td>240</td>\n",
       "      <td>J.R.R. Tolkien</td>\n",
       "      <td>81.0</td>\n",
       "      <td>4.258446</td>\n",
       "    </tr>\n",
       "    <tr>\n",
       "      <th>3</th>\n",
       "      <td>376</td>\n",
       "      <td>Louisa May Alcott</td>\n",
       "      <td>52.0</td>\n",
       "      <td>4.192308</td>\n",
       "    </tr>\n",
       "    <tr>\n",
       "      <th>4</th>\n",
       "      <td>498</td>\n",
       "      <td>Rick Riordan</td>\n",
       "      <td>62.0</td>\n",
       "      <td>4.080645</td>\n",
       "    </tr>\n",
       "    <tr>\n",
       "      <th>5</th>\n",
       "      <td>621</td>\n",
       "      <td>William Golding</td>\n",
       "      <td>71.0</td>\n",
       "      <td>3.901408</td>\n",
       "    </tr>\n",
       "    <tr>\n",
       "      <th>6</th>\n",
       "      <td>235</td>\n",
       "      <td>J.D. Salinger</td>\n",
       "      <td>86.0</td>\n",
       "      <td>3.825581</td>\n",
       "    </tr>\n",
       "    <tr>\n",
       "      <th>7</th>\n",
       "      <td>469</td>\n",
       "      <td>Paulo Coelho/Alan R. Clarke/Özdemir İnce</td>\n",
       "      <td>57.0</td>\n",
       "      <td>3.789474</td>\n",
       "    </tr>\n",
       "    <tr>\n",
       "      <th>8</th>\n",
       "      <td>630</td>\n",
       "      <td>William Shakespeare/Paul Werstine/Barbara A. M...</td>\n",
       "      <td>66.0</td>\n",
       "      <td>3.787879</td>\n",
       "    </tr>\n",
       "    <tr>\n",
       "      <th>9</th>\n",
       "      <td>106</td>\n",
       "      <td>Dan Brown</td>\n",
       "      <td>71.5</td>\n",
       "      <td>3.754540</td>\n",
       "    </tr>\n",
       "    <tr>\n",
       "      <th>10</th>\n",
       "      <td>372</td>\n",
       "      <td>Lois Lowry</td>\n",
       "      <td>56.0</td>\n",
       "      <td>3.750000</td>\n",
       "    </tr>\n",
       "    <tr>\n",
       "      <th>11</th>\n",
       "      <td>195</td>\n",
       "      <td>George Orwell/Boris Grabnar/Peter Škerl</td>\n",
       "      <td>74.0</td>\n",
       "      <td>3.729730</td>\n",
       "    </tr>\n",
       "    <tr>\n",
       "      <th>12</th>\n",
       "      <td>554</td>\n",
       "      <td>Stephenie Meyer</td>\n",
       "      <td>160.0</td>\n",
       "      <td>3.662500</td>\n",
       "    </tr>\n",
       "    <tr>\n",
       "      <th>13</th>\n",
       "      <td>311</td>\n",
       "      <td>John Steinbeck</td>\n",
       "      <td>61.0</td>\n",
       "      <td>3.622951</td>\n",
       "    </tr>\n",
       "  </tbody>\n",
       "</table>\n",
       "</div>"
      ],
      "text/plain": [
       "    author_id                                             author  avg_rt_num  \\\n",
       "0         236                         J.K. Rowling/Mary GrandPré        77.5   \n",
       "1         402                  Markus Zusak/Cao Xuân Việt Khương        53.0   \n",
       "2         240                                     J.R.R. Tolkien        81.0   \n",
       "3         376                                  Louisa May Alcott        52.0   \n",
       "4         498                                       Rick Riordan        62.0   \n",
       "5         621                                    William Golding        71.0   \n",
       "6         235                                      J.D. Salinger        86.0   \n",
       "7         469           Paulo Coelho/Alan R. Clarke/Özdemir İnce        57.0   \n",
       "8         630  William Shakespeare/Paul Werstine/Barbara A. M...        66.0   \n",
       "9         106                                          Dan Brown        71.5   \n",
       "10        372                                         Lois Lowry        56.0   \n",
       "11        195            George Orwell/Boris Grabnar/Peter Škerl        74.0   \n",
       "12        554                                    Stephenie Meyer       160.0   \n",
       "13        311                                     John Steinbeck        61.0   \n",
       "\n",
       "    average_rating  \n",
       "0         4.283844  \n",
       "1         4.264151  \n",
       "2         4.258446  \n",
       "3         4.192308  \n",
       "4         4.080645  \n",
       "5         3.901408  \n",
       "6         3.825581  \n",
       "7         3.789474  \n",
       "8         3.787879  \n",
       "9         3.754540  \n",
       "10        3.750000  \n",
       "11        3.729730  \n",
       "12        3.662500  \n",
       "13        3.622951  "
      ]
     },
     "execution_count": 12,
     "metadata": {},
     "output_type": "execute_result"
    }
   ],
   "source": [
    "query = '''WITH books_list AS (\n",
    "    SELECT book_id,    \n",
    "    COUNT(rating_id) ratings_num,\n",
    "    AVG (rating) rating\n",
    "    FROM ratings\n",
    "    GROUP BY 1\n",
    "    HAVING COUNT(rating_id)>=50)\n",
    "\n",
    "SELECT b.author_id,\n",
    "a.author,\n",
    "AVG(bl.ratings_num) avg_rt_num,\n",
    "AVG(bl.rating) AS average_rating\n",
    "FROM books_list AS bl\n",
    "LEFT JOIN books AS b ON b.book_id=bl.book_id\n",
    "LEFT JOIN authors AS a ON b.author_id=a.author_id\n",
    "GROUP BY 1, 2 \n",
    "ORDER BY average_rating DESC\n",
    "LIMIT 15\n",
    "\n",
    "'''\n",
    "pd.io.sql.read_sql(sql=text(query), con = con)"
   ]
  },
  {
   "cell_type": "markdown",
   "id": "73c38eff",
   "metadata": {},
   "source": [
    "### Вывод \n",
    "Автор с самой высокой средней оценкой книг, которые были оценены 50 или более раз, это писательница с необычными ФИО:\n",
    "\n",
    "**J.K. Rowling/Mary GrandPré.**"
   ]
  },
  {
   "cell_type": "markdown",
   "id": "4a065d69",
   "metadata": {},
   "source": [
    "## Считаем среднее количество обзоров от пользователей, которые поставили больше 48 оценок."
   ]
  },
  {
   "cell_type": "code",
   "execution_count": 16,
   "id": "a44fbef9",
   "metadata": {},
   "outputs": [
    {
     "data": {
      "text/html": [
       "<div>\n",
       "<style scoped>\n",
       "    .dataframe tbody tr th:only-of-type {\n",
       "        vertical-align: middle;\n",
       "    }\n",
       "\n",
       "    .dataframe tbody tr th {\n",
       "        vertical-align: top;\n",
       "    }\n",
       "\n",
       "    .dataframe thead th {\n",
       "        text-align: right;\n",
       "    }\n",
       "</style>\n",
       "<table border=\"1\" class=\"dataframe\">\n",
       "  <thead>\n",
       "    <tr style=\"text-align: right;\">\n",
       "      <th></th>\n",
       "      <th>avg_review_num_by_user</th>\n",
       "    </tr>\n",
       "  </thead>\n",
       "  <tbody>\n",
       "    <tr>\n",
       "      <th>0</th>\n",
       "      <td>24.0</td>\n",
       "    </tr>\n",
       "  </tbody>\n",
       "</table>\n",
       "</div>"
      ],
      "text/plain": [
       "   avg_review_num_by_user\n",
       "0                    24.0"
      ]
     },
     "execution_count": 16,
     "metadata": {},
     "output_type": "execute_result"
    }
   ],
   "source": [
    "query = ''' \n",
    "\n",
    "WITH reviewer_list AS \n",
    "    (SELECT username\n",
    "    FROM ratings\n",
    "    GROUP BY username\n",
    "    HAVING COUNT(rating_id) > 48)\n",
    "\n",
    "SELECT AVG(rc.reviews_num) avg_review_num_by_user\n",
    "FROM (SELECT r.username,\n",
    "COUNT (r.review_id) reviews_num\n",
    "FROM reviews AS r\n",
    "RIGHT JOIN reviewer_list AS rl ON rl.username=r.username\n",
    "GROUP BY r.username) AS rc\n",
    "\n",
    "\n",
    "'''\n",
    "pd.io.sql.read_sql(sql=text(query), con = con)"
   ]
  },
  {
   "cell_type": "markdown",
   "id": "25a4ca2a",
   "metadata": {},
   "source": [
    "### Вывод\n",
    "Среднее количество *обзоров* от пользователей, которые поставили более 48 *оценок*:\n",
    "\n",
    "**24 обзора**"
   ]
  },
  {
   "cell_type": "markdown",
   "id": "8d5ba31b",
   "metadata": {},
   "source": [
    "# Выводы\n",
    "По результатам исследования можно сделать следующие выводы:\n",
    "- Самый популярный автор в базе данных J.K. Rowling/Mary GrandPré\n",
    "- Самое производительное издательство (по книгам толще 50 страниц) - Penguin Books.\n",
    "- Среднее количество обзоров от активных пользователей сервиса (т.е. таких, которые поставили более 48 оценок книгам) 24."
   ]
  }
 ],
 "metadata": {
  "ExecuteTimeLog": [
   {
    "duration": 16748,
    "start_time": "2023-07-28T18:56:59.193Z"
   },
   {
    "duration": 39,
    "start_time": "2023-07-28T18:57:15.943Z"
   },
   {
    "duration": 40,
    "start_time": "2023-07-28T18:57:15.987Z"
   },
   {
    "duration": 36,
    "start_time": "2023-07-28T18:57:16.030Z"
   },
   {
    "duration": 57,
    "start_time": "2023-07-28T18:57:16.069Z"
   },
   {
    "duration": 33,
    "start_time": "2023-07-28T18:57:16.128Z"
   },
   {
    "duration": 58,
    "start_time": "2023-07-28T18:57:16.163Z"
   },
   {
    "duration": 94,
    "start_time": "2023-07-28T18:57:16.224Z"
   },
   {
    "duration": 39,
    "start_time": "2023-07-28T18:57:16.320Z"
   },
   {
    "duration": 47,
    "start_time": "2023-07-28T18:57:16.361Z"
   },
   {
    "duration": 66,
    "start_time": "2023-07-28T18:57:16.412Z"
   },
   {
    "duration": 44,
    "start_time": "2023-07-28T19:10:43.458Z"
   },
   {
    "duration": 13251,
    "start_time": "2023-07-28T19:10:50.485Z"
   },
   {
    "duration": 32,
    "start_time": "2023-07-28T19:11:03.738Z"
   },
   {
    "duration": 49,
    "start_time": "2023-07-28T19:11:03.772Z"
   },
   {
    "duration": 31,
    "start_time": "2023-07-28T19:11:03.823Z"
   },
   {
    "duration": 31,
    "start_time": "2023-07-28T19:11:03.856Z"
   },
   {
    "duration": 31,
    "start_time": "2023-07-28T19:11:03.889Z"
   },
   {
    "duration": 32,
    "start_time": "2023-07-28T19:11:03.922Z"
   },
   {
    "duration": 121,
    "start_time": "2023-07-28T19:11:03.955Z"
   },
   {
    "duration": 0,
    "start_time": "2023-07-28T19:11:04.078Z"
   },
   {
    "duration": 0,
    "start_time": "2023-07-28T19:11:04.079Z"
   },
   {
    "duration": 0,
    "start_time": "2023-07-28T19:11:04.080Z"
   },
   {
    "duration": 0,
    "start_time": "2023-07-28T19:11:04.081Z"
   },
   {
    "duration": 42,
    "start_time": "2023-07-28T19:11:26.831Z"
   },
   {
    "duration": 79,
    "start_time": "2023-07-28T19:12:35.211Z"
   },
   {
    "duration": 49,
    "start_time": "2023-07-28T19:12:48.852Z"
   },
   {
    "duration": 78,
    "start_time": "2023-07-28T19:14:50.999Z"
   },
   {
    "duration": 68,
    "start_time": "2023-07-28T19:14:56.044Z"
   },
   {
    "duration": 59,
    "start_time": "2023-07-28T19:19:12.192Z"
   },
   {
    "duration": 68,
    "start_time": "2023-07-28T19:20:45.203Z"
   },
   {
    "duration": 63,
    "start_time": "2023-07-28T19:21:01.107Z"
   },
   {
    "duration": 61,
    "start_time": "2023-07-28T19:21:14.948Z"
   },
   {
    "duration": 60,
    "start_time": "2023-07-28T19:21:27.013Z"
   },
   {
    "duration": 60,
    "start_time": "2023-07-28T19:22:14.632Z"
   },
   {
    "duration": 62,
    "start_time": "2023-07-28T19:22:38.161Z"
   },
   {
    "duration": 60,
    "start_time": "2023-07-28T19:22:54.628Z"
   },
   {
    "duration": 70,
    "start_time": "2023-07-28T19:23:05.123Z"
   },
   {
    "duration": 59,
    "start_time": "2023-07-28T19:23:30.422Z"
   },
   {
    "duration": 76,
    "start_time": "2023-07-28T19:23:56.240Z"
   },
   {
    "duration": 48,
    "start_time": "2023-07-28T19:25:43.839Z"
   },
   {
    "duration": 42,
    "start_time": "2023-07-28T19:25:54.657Z"
   },
   {
    "duration": 31,
    "start_time": "2023-07-28T19:26:27.369Z"
   },
   {
    "duration": 63,
    "start_time": "2023-07-28T19:26:38.777Z"
   },
   {
    "duration": 64,
    "start_time": "2023-07-28T19:27:03.218Z"
   },
   {
    "duration": 32,
    "start_time": "2023-07-28T19:28:36.690Z"
   },
   {
    "duration": 64,
    "start_time": "2023-07-28T19:29:56.775Z"
   },
   {
    "duration": 42,
    "start_time": "2023-07-28T19:30:09.183Z"
   },
   {
    "duration": 48,
    "start_time": "2023-07-28T19:33:16.694Z"
   },
   {
    "duration": 86,
    "start_time": "2023-07-28T19:34:05.155Z"
   }
  ],
  "kernelspec": {
   "display_name": "Python 3 (ipykernel)",
   "language": "python",
   "name": "python3"
  },
  "language_info": {
   "codemirror_mode": {
    "name": "ipython",
    "version": 3
   },
   "file_extension": ".py",
   "mimetype": "text/x-python",
   "name": "python",
   "nbconvert_exporter": "python",
   "pygments_lexer": "ipython3",
   "version": "3.9.13"
  },
  "toc": {
   "base_numbering": 1,
   "nav_menu": {},
   "number_sections": true,
   "sideBar": true,
   "skip_h1_title": false,
   "title_cell": "Оглавление",
   "title_sidebar": "Содержание",
   "toc_cell": false,
   "toc_position": {
    "height": "calc(100% - 180px)",
    "left": "10px",
    "top": "150px",
    "width": "324px"
   },
   "toc_section_display": true,
   "toc_window_display": true
  }
 },
 "nbformat": 4,
 "nbformat_minor": 5
}
